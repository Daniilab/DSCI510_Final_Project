{
  "nbformat": 4,
  "nbformat_minor": 0,
  "metadata": {
    "colab": {
      "provenance": [],
      "gpuType": "T4",
      "mount_file_id": "11-vl3odzw9msWaLPBssG7jPEl30DjTBc",
      "authorship_tag": "ABX9TyNwBOnl5RGe0f83Dkv/mvWG",
      "include_colab_link": true
    },
    "kernelspec": {
      "name": "python3",
      "display_name": "Python 3"
    },
    "language_info": {
      "name": "python"
    },
    "accelerator": "GPU"
  },
  "cells": [
    {
      "cell_type": "markdown",
      "metadata": {
        "id": "view-in-github",
        "colab_type": "text"
      },
      "source": [
        "<a href=\"https://colab.research.google.com/github/Daniilab/DSCI510_Final_Project/blob/main/Abbruzzese_Daniil_Final_Project.ipynb\" target=\"_parent\"><img src=\"https://colab.research.google.com/assets/colab-badge.svg\" alt=\"Open In Colab\"/></a>"
      ]
    },
    {
      "cell_type": "code",
      "source": [
        "# import zipfile\n",
        "\n",
        "# zip_file_path = \"/content/data.zip?rlkey=i8x5qu0uzky3wjtrc8xy98w72\"\n",
        "\n",
        "# extract_to_path = '/content/data'\n",
        "\n",
        "# # Unzipping the file\n",
        "# with zipfile.ZipFile(zip_file_path, 'r') as zip_ref:\n",
        "#     zip_ref.extractall(extract_to_path)\n",
        "\n",
        "# print(\"Unzipping completed.\")"
      ],
      "metadata": {
        "id": "Nf1eGKnqo3aI"
      },
      "execution_count": null,
      "outputs": []
    },
    {
      "cell_type": "code",
      "source": [
        "from google.colab import drive\n",
        "drive. mount ('/content/drive', force_remount=True)\n"
      ],
      "metadata": {
        "id": "8LxjmyVk04H3",
        "colab": {
          "base_uri": "https://localhost:8080/"
        },
        "outputId": "35c27453-4008-4d9f-f41b-360c45eb9c08"
      },
      "execution_count": null,
      "outputs": [
        {
          "output_type": "stream",
          "name": "stdout",
          "text": [
            "Mounted at /content/drive\n"
          ]
        }
      ]
    },
    {
      "cell_type": "code",
      "source": [
        "\n",
        "import zipfile\n",
        "\n",
        "with zipfile.ZipFile('/content/drive/My Drive/Final_Project/data.zip', 'r') as zip_ref:\n",
        "  zip_ref.extractall('/content/drive/My Drive/Final_Project/Data')\n",
        "\n",
        "\n"
      ],
      "metadata": {
        "id": "sBNjx7qw7Mgo"
      },
      "execution_count": null,
      "outputs": []
    },
    {
      "cell_type": "code",
      "source": [
        "import os\n",
        "import os.path as op\n",
        "import json\n",
        "from pathlib import Path\n",
        "import shutil\n",
        "import logging\n",
        "import numpy as np\n",
        "from tqdm import tqdm\n",
        "from skimage import io"
      ],
      "metadata": {
        "id": "SVYpqbNWqk9v"
      },
      "execution_count": 11,
      "outputs": []
    },
    {
      "cell_type": "markdown",
      "source": [
        "# Data Preprocessing"
      ],
      "metadata": {
        "id": "61yTtvKrqpur"
      }
    },
    {
      "cell_type": "code",
      "source": [
        "# Logging configuration\n",
        "logging.basicConfig(level=logging.INFO,\n",
        "                    datefmt='%H:%M:%S',\n",
        "                    format='%(asctime)s | %(levelname)-5s | %(module)-15s | %(message)s')\n",
        "\n",
        "IMAGE_SIZE = (299, 299)  # All images contained in this dataset are 299x299 (originally, to match Inception v3 input size)\n",
        "SEED = 17\n",
        "\n",
        "# # Head directory containing all image subframes. Update with the relative path of your data directory\n",
        "# data_head_dir = Path('/content/data/__MACOSX/data')\n",
        "data_head_dir = Path('/content/drive/My Drive/Final_Project/Data/data')\n",
        "\n",
        "# Find all subframe directories\n",
        "subdirs = [Path(subdir.stem) for subdir in data_head_dir.iterdir() if subdir.is_dir()]\n",
        "src_image_ids = ['_'.join(a_path.name.split('_')[:3]) for a_path in subdirs]"
      ],
      "metadata": {
        "id": "dIL0XjDjqmlG"
      },
      "execution_count": 12,
      "outputs": []
    },
    {
      "cell_type": "code",
      "source": [
        "# Load train/val/test subframe IDs\n",
        "def load_text_ids(file_path):\n",
        "    \"\"\"Simple helper to load all lines from a text file\"\"\"\n",
        "    with open(file_path, 'r') as f:\n",
        "        lines = [line.strip() for line in f.readlines()]\n",
        "    return lines\n",
        "\n",
        "# # Load the subframe names for the three data subsets\n",
        "# train_ids = load_text_ids('/content/train_source_images.txt')\n",
        "# validate_ids = load_text_ids('/content/val_source_images.txt')\n",
        "# test_ids = load_text_ids('/content/test_source_images.txt')\n",
        "\n",
        "\n",
        "# Load the subframe names for the three data subsets\n",
        "train_ids = load_text_ids('/content/drive/My Drive/Final_Project/train_source_images.txt')\n",
        "validate_ids = load_text_ids('/content/drive/My Drive/Final_Project/val_source_images.txt')\n",
        "test_ids = load_text_ids('/content/drive/My Drive/Final_Project/test_source_images.txt')\n",
        "\n",
        "# Generate a list containing the dataset split for the matching subdirectory names\n",
        "subdir_splits = []\n",
        "for src_id in src_image_ids:\n",
        "    if src_id in train_ids:\n",
        "        subdir_splits.append('train')\n",
        "    elif src_id in validate_ids:\n",
        "        subdir_splits.append('validate')\n",
        "    elif(src_id in test_ids):\n",
        "        subdir_splits.append('test')\n",
        "    else:\n",
        "        logging.warning(f'{src_id}: Did not find designated split in train/validate/test list.')\n",
        "        subdir_splits.append(None)"
      ],
      "metadata": {
        "id": "VN_Odchcqmwj"
      },
      "execution_count": 13,
      "outputs": []
    },
    {
      "cell_type": "code",
      "source": [
        "import random\n",
        "import tensorflow as tf\n",
        "from PIL import Image\n",
        "\n",
        "def load_and_preprocess(img_loc, label):\n",
        "\n",
        "    def _inner_function(img_loc, label):\n",
        "\n",
        "        # Convert tensor to native type\n",
        "        img_loc_str = img_loc.numpy().decode('utf-8')\n",
        "        label_str = label.numpy().decode('utf-8')\n",
        "\n",
        "        img = Image.open(img_loc_str).convert('RGB')\n",
        "\n",
        "\n",
        "        return img, 1 if label_str=='frost' else 0\n",
        "\n",
        "    # Wrap the Python function\n",
        "    X, y = tf.py_function(_inner_function, [img_loc, label], [tf.float32, tf.int64])\n",
        "\n",
        "    return X, y\n",
        "\n",
        "def load_subdir_data(dir_path, image_size, seed=None):\n",
        "\n",
        "    \"\"\"Helper to create a TF dataset from each image subdirectory\"\"\"\n",
        "\n",
        "    # Grab only the classes that (1) we want to keep and (2) exist in this directory\n",
        "    tile_dir = dir_path / Path('tiles')\n",
        "    label_dir = dir_path /Path('labels')\n",
        "\n",
        "    loc_list = []\n",
        "\n",
        "    for folder in os.listdir(tile_dir):\n",
        "        if os.path.isdir(os.path.join(tile_dir, folder)):\n",
        "            for file in os.listdir(os.path.join(tile_dir, folder)):\n",
        "                if file.endswith(\".png\"):\n",
        "                    loc_list.append((os.path.join(os.path.join(tile_dir, folder), file), folder))\n",
        "\n",
        "    return loc_list\n",
        "\n",
        "# Loop over all subframes, loading each into a list\n",
        "tf_data_train, tf_data_test, tf_data_val = [], [], []\n",
        "tf_dataset_train, tf_dataset_test, tf_dataset_val = [], [], []\n",
        "\n",
        "# Update the batch and buffer size as per your model requirements\n",
        "buffer_size = 64\n",
        "batch_size = 32\n",
        "\n",
        "for subdir, split in zip(subdirs, subdir_splits):\n",
        "    full_path = data_head_dir / subdir\n",
        "    if split=='validate':\n",
        "        tf_data_val.extend(load_subdir_data(full_path, IMAGE_SIZE, SEED))\n",
        "    elif split=='train':\n",
        "        tf_data_train.extend(load_subdir_data(full_path, IMAGE_SIZE, SEED))\n",
        "    elif split=='test':\n",
        "        tf_data_test.extend(load_subdir_data(full_path, IMAGE_SIZE, SEED))\n",
        "\n",
        "random.shuffle(tf_data_train)\n",
        "img_list, label_list = zip(*tf_data_train)\n",
        "img_list_t = tf.convert_to_tensor(img_list)\n",
        "lb_list_t = tf.convert_to_tensor(label_list)\n",
        "\n",
        "tf_dataset_train = tf.data.Dataset.from_tensor_slices((img_list_t, lb_list_t))\n",
        "tf_dataset_train = tf_dataset_train.map(load_and_preprocess, num_parallel_calls=tf.data.experimental.AUTOTUNE)\n",
        "tf_dataset_train = tf_dataset_train.shuffle(buffer_size=buffer_size).batch(batch_size)\n",
        "\n",
        "random.shuffle(tf_data_val)\n",
        "img_list, label_list = zip(*tf_data_val)\n",
        "img_list_t = tf.convert_to_tensor(img_list)\n",
        "lb_list_t = tf.convert_to_tensor(label_list)\n",
        "\n",
        "tf_dataset_val = tf.data.Dataset.from_tensor_slices((img_list_t, lb_list_t))\n",
        "tf_dataset_val = tf_dataset_val.map(load_and_preprocess, num_parallel_calls=tf.data.experimental.AUTOTUNE)\n",
        "tf_dataset_val = tf_dataset_val.shuffle(buffer_size=buffer_size).batch(batch_size)\n",
        "\n",
        "random.shuffle(tf_data_test)\n",
        "img_list, label_list = zip(*tf_data_train)\n",
        "img_list_t = tf.convert_to_tensor(img_list)\n",
        "lb_list_t = tf.convert_to_tensor(label_list)\n",
        "\n",
        "tf_dataset_test = tf.data.Dataset.from_tensor_slices((img_list_t, lb_list_t))\n",
        "tf_dataset_test = tf_dataset_test.map(load_and_preprocess, num_parallel_calls=tf.data.experimental.AUTOTUNE)\n",
        "tf_dataset_test = tf_dataset_test.shuffle(buffer_size=buffer_size).batch(batch_size)"
      ],
      "metadata": {
        "id": "9UqqglZeqm33"
      },
      "execution_count": 14,
      "outputs": []
    },
    {
      "cell_type": "markdown",
      "source": [
        "# (c) i - Image Augmentation"
      ],
      "metadata": {
        "id": "wAqtax0EG3p9"
      }
    },
    {
      "cell_type": "code",
      "source": [
        "# one hot encoding\n",
        "\n",
        "def one_hot_encode(image, label):\n",
        "    return image, tf.one_hot(label, depth=2)\n",
        "\n",
        "tf_dataset_train = tf_dataset_train.map(one_hot_encode)\n",
        "tf_dataset_val = tf_dataset_val.map(one_hot_encode)\n",
        "tf_dataset_test = tf_dataset_test.map(one_hot_encode)"
      ],
      "metadata": {
        "id": "yOHgLDDrqm9o"
      },
      "execution_count": 15,
      "outputs": []
    },
    {
      "cell_type": "code",
      "source": [
        "!pip install tensorflow_addons"
      ],
      "metadata": {
        "colab": {
          "base_uri": "https://localhost:8080/"
        },
        "id": "iLuY3jAcOnp4",
        "outputId": "5b96b99e-bf78-43a2-90f8-910d01d1037f"
      },
      "execution_count": 7,
      "outputs": [
        {
          "output_type": "stream",
          "name": "stdout",
          "text": [
            "Collecting tensorflow_addons\n",
            "  Downloading tensorflow_addons-0.23.0-cp310-cp310-manylinux_2_17_x86_64.manylinux2014_x86_64.whl (611 kB)\n",
            "\u001b[2K     \u001b[90m━━━━━━━━━━━━━━━━━━━━━━━━━━━━━━━━━━━━━━━━\u001b[0m \u001b[32m611.8/611.8 kB\u001b[0m \u001b[31m5.1 MB/s\u001b[0m eta \u001b[36m0:00:00\u001b[0m\n",
            "\u001b[?25hRequirement already satisfied: packaging in /usr/local/lib/python3.10/dist-packages (from tensorflow_addons) (23.2)\n",
            "Collecting typeguard<3.0.0,>=2.7 (from tensorflow_addons)\n",
            "  Downloading typeguard-2.13.3-py3-none-any.whl (17 kB)\n",
            "Installing collected packages: typeguard, tensorflow_addons\n",
            "Successfully installed tensorflow_addons-0.23.0 typeguard-2.13.3\n"
          ]
        }
      ]
    },
    {
      "cell_type": "code",
      "source": [
        "# retrying image augmentation to only augment 50 percent\n",
        "\n",
        "\n",
        "\n",
        "import tensorflow as tf\n",
        "import tensorflow_addons as tfa\n",
        "\n",
        "def augment(image, label):\n",
        "    if tf.random.uniform([]) <= 0.5:  # 50% probability\n",
        "        image = tf.ensure_shape(image, [None, None, 3])\n",
        "\n",
        "        # Randomly crop the image\n",
        "        image = tf.image.random_crop(image, size=[250, 250, 3])\n",
        "\n",
        "        # Randomly zoom the image\n",
        "        image = tf.image.resize(image, [320, 320])\n",
        "        image = tf.image.random_crop(image, size=[299, 299, 3])\n",
        "\n",
        "        # Randomly rotate the image\n",
        "        image = tf.image.rot90(image, k=tf.random.uniform(shape=[], minval=0, maxval=4, dtype=tf.int32))\n",
        "\n",
        "        # Randomly flip the image\n",
        "        image = tf.image.random_flip_left_right(image)\n",
        "        image = tf.image.random_flip_up_down(image)\n",
        "\n",
        "        # Adjust contrast\n",
        "        image = tf.image.random_contrast(image, lower=0.8, upper=1.2)\n",
        "\n",
        "        # Translate the image\n",
        "        translations = tf.random.uniform(shape=[2], minval=-10, maxval=10, dtype=tf.float32)\n",
        "        image = tfa.image.translate(image, translations)\n",
        "\n",
        "    return image, label\n",
        "\n",
        "# Rest of your data pipeline remains the same\n",
        "\n",
        "\n",
        "# Unbatch the dataset\n",
        "tf_dataset_train = tf_dataset_train.unbatch()\n",
        "\n",
        "# Apply augmentation to the training dataset\n",
        "tf_dataset_train = tf_dataset_train.map(augment, num_parallel_calls=tf.data.experimental.AUTOTUNE)\n",
        "\n",
        "# Rebatch the dataset\n",
        "batch_size = 32  # or any batch size you prefer\n",
        "tf_dataset_train = tf_dataset_train.batch(batch_size)\n"
      ],
      "metadata": {
        "id": "nDbzhsxONu4A"
      },
      "execution_count": 16,
      "outputs": []
    },
    {
      "cell_type": "code",
      "source": [
        "#augmenting all of the images -- old method\n",
        "\n",
        "# import tensorflow_addons as tfa\n",
        "\n",
        "# def augment(image, label):\n",
        "\n",
        "#     image = tf.ensure_shape(image, [None, None, 3])\n",
        "\n",
        "#     # Randomly crop the image\n",
        "#     image = tf.image.random_crop(image, size=[250, 250, 3])\n",
        "\n",
        "#     # Randomly zoom the image\n",
        "#     image = tf.image.resize(image, [320, 320])\n",
        "#     image = tf.image.random_crop(image, size=[299, 299, 3])\n",
        "\n",
        "#     # Randomly rotate the image\n",
        "#     image = tf.image.rot90(image, k=tf.random.uniform(shape=[], minval=0, maxval=4, dtype=tf.int32))\n",
        "\n",
        "#     # Randomly flip the image\n",
        "#     image = tf.image.random_flip_left_right(image)\n",
        "#     image = tf.image.random_flip_up_down(image)\n",
        "\n",
        "#     # Adjust contrast\n",
        "#     image = tf.image.random_contrast(image, lower=0.8, upper=1.2)\n",
        "\n",
        "#     # Translate the image\n",
        "#     translations = tf.random.uniform(shape=[2], minval=-10, maxval=10, dtype=tf.float32)\n",
        "#     image = tfa.image.translate(image, translations)\n",
        "\n",
        "#     return image, label\n",
        "\n",
        "\n",
        "# # Unbatch the dataset\n",
        "# tf_dataset_train = tf_dataset_train.unbatch()\n",
        "\n",
        "# # Apply augmentation to the training dataset\n",
        "# tf_dataset_train = tf_dataset_train.map(augment, num_parallel_calls=tf.data.experimental.AUTOTUNE)\n",
        "\n",
        "# # Rebatch the dataset\n",
        "# batch_size = 32  # or any batch size you prefer\n",
        "# tf_dataset_train = tf_dataset_train.batch(batch_size)\n"
      ],
      "metadata": {
        "id": "Z8sFTEzcG-Bq"
      },
      "execution_count": 14,
      "outputs": []
    },
    {
      "cell_type": "code",
      "source": [],
      "metadata": {
        "id": "hKnRzB03RM8j"
      },
      "execution_count": null,
      "outputs": []
    },
    {
      "cell_type": "code",
      "source": [
        "for images, labels in tf_dataset_train.take(1):\n",
        "    print(\"Shape of images:\", images.shape)\n",
        "    print(\"Shape of labels:\", labels.shape)\n"
      ],
      "metadata": {
        "colab": {
          "base_uri": "https://localhost:8080/"
        },
        "id": "AYTpM3T1HXPz",
        "outputId": "310eb09a-9036-45e0-c542-d8f4ae7f7997"
      },
      "execution_count": 17,
      "outputs": [
        {
          "output_type": "stream",
          "name": "stdout",
          "text": [
            "Shape of images: (32, 299, 299, 3)\n",
            "Shape of labels: (32, 2)\n"
          ]
        }
      ]
    },
    {
      "cell_type": "markdown",
      "source": [
        "### fixing shape"
      ],
      "metadata": {
        "id": "N6VUGjpnkh6u"
      }
    },
    {
      "cell_type": "code",
      "source": [
        "\n",
        "def _fixup_shape(images, labels):\n",
        "    images.set_shape([None, 299, 299, 3])\n",
        "    labels.set_shape([None, 2])\n",
        "    return images, labels\n",
        "\n",
        "tf_dataset_train = tf_dataset_train.map(_fixup_shape)\n",
        "tf_dataset_val = tf_dataset_val.map(_fixup_shape)\n",
        "tf_dataset_test = tf_dataset_test.map(_fixup_shape)"
      ],
      "metadata": {
        "id": "a_6Yi7GCkgW2"
      },
      "execution_count": 18,
      "outputs": []
    },
    {
      "cell_type": "markdown",
      "source": [
        "# (c) ii - CNN + MLP Training\n"
      ],
      "metadata": {
        "id": "-J7_FEvSHbzT"
      }
    },
    {
      "cell_type": "code",
      "source": [
        "import tensorflow as tf\n",
        "from tensorflow.keras.models import Sequential\n",
        "from tensorflow.keras.layers import Conv2D, BatchNormalization, ReLU, MaxPooling2D, Flatten, Dense, Dropout\n",
        "from tensorflow.keras.regularizers import l2\n",
        "from tensorflow.keras.callbacks import EarlyStopping\n",
        "from tensorflow.keras.optimizers import Adam\n",
        "from tensorflow.keras.losses import CategoricalCrossentropy\n",
        "\n",
        "\n",
        "# Define your CNN model\n",
        "model = Sequential()\n",
        "\n",
        "# First convolution layer\n",
        "model.add(Conv2D(32, kernel_size=(3, 3), input_shape=(299, 299, 3), padding='same', kernel_regularizer=l2(0.001)))\n",
        "model.add(BatchNormalization())\n",
        "model.add(ReLU())\n",
        "model.add(MaxPooling2D(pool_size=(2, 2)))\n",
        "\n",
        "# Second convolution layer\n",
        "model.add(Conv2D(64, kernel_size=(3, 3), padding='same', kernel_regularizer=l2(0.001)))\n",
        "model.add(BatchNormalization())\n",
        "model.add(ReLU())\n",
        "model.add(MaxPooling2D(pool_size=(2, 2)))\n",
        "\n",
        "# Third convolution layer\n",
        "model.add(Conv2D(128, kernel_size=(3, 3), padding='same', kernel_regularizer=l2(0.001)))\n",
        "model.add(BatchNormalization())\n",
        "model.add(ReLU())\n",
        "model.add(MaxPooling2D(pool_size=(2, 2)))\n",
        "\n",
        "# Flattening the output for the dense layer\n",
        "model.add(Flatten())\n",
        "\n",
        "# Dense layer\n",
        "model.add(Dense(128, activation='relu', kernel_regularizer=l2(0.001)))\n",
        "model.add(Dropout(0.3))\n",
        "\n",
        "# Output layer with softmax activation\n",
        "model.add(Dense(2, activation='softmax'))  # Assuming binary classification ('frost' and 'background')\n",
        "\n",
        "# Compile the model\n",
        "model.compile(optimizer=Adam(), loss=CategoricalCrossentropy(), metrics=['accuracy'])\n",
        "\n",
        "# Early stopping to avoid overfitting\n",
        "early_stopping = EarlyStopping(monitor='val_loss', patience=3, restore_best_weights=True)\n",
        "\n",
        "\n",
        "# Train the model\n",
        "history = model.fit(tf_dataset_train, validation_data=tf_dataset_val, epochs=20, callbacks=[early_stopping])\n",
        "\n",
        "\n",
        "# Plotting training and validation errors\n",
        "import matplotlib.pyplot as plt\n",
        "\n",
        "plt.plot(history.history['loss'], label='Training Loss')\n",
        "plt.plot(history.history['val_loss'], label='Validation Loss')\n",
        "plt.title('Training and Validation Loss')\n",
        "plt.ylabel('Loss')\n",
        "plt.xlabel('Epoch')\n",
        "plt.legend()\n",
        "plt.show()\n",
        "\n",
        "\n",
        "# this took 30 minutes to run 442/442"
      ],
      "metadata": {
        "colab": {
          "base_uri": "https://localhost:8080/",
          "height": 784
        },
        "id": "_Gi8_rWoHffc",
        "outputId": "38abde4c-9814-40b8-9918-d6834da488f1"
      },
      "execution_count": 19,
      "outputs": [
        {
          "output_type": "stream",
          "name": "stdout",
          "text": [
            "Epoch 1/20\n",
            "60/60 [==============================] - 27s 397ms/step - loss: 12.5134 - accuracy: 0.7791 - val_loss: 105.9410 - val_accuracy: 0.6795\n",
            "Epoch 2/20\n",
            "60/60 [==============================] - 28s 452ms/step - loss: 1.1255 - accuracy: 0.8804 - val_loss: 4.6882 - val_accuracy: 0.3616\n",
            "Epoch 3/20\n",
            "60/60 [==============================] - 24s 402ms/step - loss: 0.8810 - accuracy: 0.8977 - val_loss: 2.4768 - val_accuracy: 0.4192\n",
            "Epoch 4/20\n",
            "60/60 [==============================] - 24s 389ms/step - loss: 0.7832 - accuracy: 0.9029 - val_loss: 1.4502 - val_accuracy: 0.3863\n",
            "Epoch 5/20\n",
            "60/60 [==============================] - 28s 462ms/step - loss: 0.7436 - accuracy: 0.8987 - val_loss: 2.1159 - val_accuracy: 0.3945\n",
            "Epoch 6/20\n",
            "60/60 [==============================] - 23s 386ms/step - loss: 0.6707 - accuracy: 0.8883 - val_loss: 0.9554 - val_accuracy: 0.8712\n",
            "Epoch 7/20\n",
            "60/60 [==============================] - 24s 398ms/step - loss: 0.6548 - accuracy: 0.8804 - val_loss: 1.1759 - val_accuracy: 0.6055\n",
            "Epoch 8/20\n",
            "60/60 [==============================] - 25s 407ms/step - loss: 0.5929 - accuracy: 0.9034 - val_loss: 1.4610 - val_accuracy: 0.3205\n",
            "Epoch 9/20\n",
            "60/60 [==============================] - 24s 395ms/step - loss: 0.5666 - accuracy: 0.9128 - val_loss: 1.8914 - val_accuracy: 0.5233\n"
          ]
        },
        {
          "output_type": "display_data",
          "data": {
            "text/plain": [
              "<Figure size 640x480 with 1 Axes>"
            ],
            "image/png": "[encoded data removed]"
          },
          "metadata": {}
        }
      ]
    },
    {
      "cell_type": "markdown",
      "source": [
        "# c (iii) - Report Precision, Recall, F1 Score"
      ],
      "metadata": {
        "id": "JCLHhoi_LHis"
      }
    },
    {
      "cell_type": "code",
      "source": [
        "import numpy as np\n",
        "import tensorflow as tf\n",
        "\n",
        "# Initialize arrays for true and predicted labels\n",
        "true_labels = []\n",
        "predicted_labels = []\n",
        "\n",
        "# Iterate over the test dataset\n",
        "for images, labels in tf_dataset_test:\n",
        "    # Predict\n",
        "    predicted_probs = model.predict(images, verbose = 0)\n",
        "    # Convert probabilities to class indices\n",
        "    preds = np.argmax(predicted_probs, axis=1)\n",
        "\n",
        "    true_labels.extend(np.argmax(labels.numpy(), axis=1))\n",
        "    predicted_labels.extend(preds)\n",
        "\n",
        "# Convert lists to numpy arrays\n",
        "true_labels = np.array(true_labels)\n",
        "predicted_labels = np.array(predicted_labels)"
      ],
      "metadata": {
        "id": "3DuZffaVLKxc"
      },
      "execution_count": 20,
      "outputs": []
    },
    {
      "cell_type": "code",
      "source": [
        "from sklearn.metrics import precision_score, recall_score, f1_score\n",
        "\n",
        "# Calculate metrics\n",
        "precision = precision_score(true_labels, predicted_labels)\n",
        "recall = recall_score(true_labels, predicted_labels)\n",
        "f1 = f1_score(true_labels, predicted_labels)\n",
        "\n",
        "# Print metrics\n",
        "print(\"Precision:\", precision)\n",
        "print(\"Recall:\", recall)\n",
        "print(\"F1 Score:\", f1)\n"
      ],
      "metadata": {
        "colab": {
          "base_uri": "https://localhost:8080/"
        },
        "id": "PS8rHuSdLNh_",
        "outputId": "a1db76da-3f31-4476-fba2-0f0500cdf4c0"
      },
      "execution_count": 21,
      "outputs": [
        {
          "output_type": "stream",
          "name": "stdout",
          "text": [
            "Precision: 0.675776397515528\n",
            "Recall: 0.9477351916376306\n",
            "F1 Score: 0.7889775199419871\n"
          ]
        }
      ]
    },
    {
      "cell_type": "markdown",
      "source": [
        "# (d) i, ii, iii\n",
        "\n",
        "Note: I already augmented images in (c)"
      ],
      "metadata": {
        "id": "sBzqn_V8LP0F"
      }
    },
    {
      "cell_type": "code",
      "source": [
        "import tensorflow as tf\n",
        "from tensorflow.keras.models import Model\n",
        "from tensorflow.keras.layers import Dense, GlobalAveragePooling2D\n",
        "from tensorflow.keras.optimizers import Adam\n",
        "from tensorflow.keras.losses import BinaryCrossentropy  # Updated loss function\n",
        "from tensorflow.keras.callbacks import EarlyStopping\n",
        "\n",
        "from tensorflow.keras.layers import BatchNormalization, Dropout, Activation\n",
        "\n",
        "# Adjusted function to add the last layer with ReLU, BatchNormalization, and Dropout\n",
        "def add_last_layer(base_model, num_classes=2):\n",
        "    x = base_model.output\n",
        "    x = GlobalAveragePooling2D()(x)\n",
        "    x = Dense(1024)(x)  # No activation here, ReLU will be applied after BatchNormalization\n",
        "    x = BatchNormalization()(x)\n",
        "    x = Activation('relu')(x)\n",
        "    x = Dropout(0.3)(x)\n",
        "    predictions = Dense(num_classes, activation='softmax')(x)  # Use softmax as per the instructions\n",
        "    return Model(inputs=base_model.input, outputs=predictions)\n",
        "\n",
        "\n",
        "\n",
        "# Load and freeze pre-trained models\n",
        "def load_and_freeze_model(model_class, input_shape=(299, 299, 3)):\n",
        "    model = model_class(include_top=False, weights='imagenet', input_shape=input_shape)\n",
        "    for layer in model.layers:\n",
        "        layer.trainable = False\n",
        "    return model\n",
        "\n",
        "base_model_EfficientNetB0 = load_and_freeze_model(tf.keras.applications.EfficientNetB0)\n",
        "model_EfficientNetB0 = add_last_layer(base_model_EfficientNetB0, num_classes=2)\n",
        "\n",
        "base_model_ResNet50 = load_and_freeze_model(tf.keras.applications.ResNet50)\n",
        "model_ResNet50 = add_last_layer(base_model_ResNet50, num_classes=2)\n",
        "\n",
        "base_model_VGG16 = load_and_freeze_model(tf.keras.applications.VGG16)\n",
        "model_VGG16 = add_last_layer(base_model_VGG16, num_classes=2)\n",
        "\n",
        "# Compile the models\n",
        "models = [model_EfficientNetB0, model_ResNet50, model_VGG16]\n",
        "for model in models:\n",
        "    # model.compile(optimizer=Adam(), loss=BinaryCrossentropy(), metrics=['accuracy'])\n",
        "\n",
        "    model.compile(optimizer=Adam(), loss='categorical_crossentropy', metrics=['accuracy'])\n",
        "\n",
        "# Define EarlyStopping and plot_history only once\n",
        "early_stopping = EarlyStopping(monitor='val_loss', patience=3, restore_best_weights=True)"
      ],
      "metadata": {
        "id": "K6Wa5emfLYEB",
        "colab": {
          "base_uri": "https://localhost:8080/"
        },
        "outputId": "a33ec8e6-6af0-4011-875b-8c43ceaa90c7"
      },
      "execution_count": 22,
      "outputs": [
        {
          "output_type": "stream",
          "name": "stdout",
          "text": [
            "Downloading data from https://storage.googleapis.com/keras-applications/efficientnetb0_notop.h5\n",
            "16705208/16705208 [==============================] - 0s 0us/step\n",
            "Downloading data from https://storage.googleapis.com/tensorflow/keras-applications/resnet/resnet50_weights_tf_dim_ordering_tf_kernels_notop.h5\n",
            "94765736/94765736 [==============================] - 1s 0us/step\n",
            "Downloading data from https://storage.googleapis.com/tensorflow/keras-applications/vgg16/vgg16_weights_tf_dim_ordering_tf_kernels_notop.h5\n",
            "58889256/58889256 [==============================] - 0s 0us/step\n"
          ]
        }
      ]
    },
    {
      "cell_type": "markdown",
      "source": [
        "# (d) iv"
      ],
      "metadata": {
        "id": "Rum-RCntgmuk"
      }
    },
    {
      "cell_type": "code",
      "source": [
        "#for EfficientNetB0\n",
        "\n",
        "\n",
        "history = model_EfficientNetB0.fit(tf_dataset_train, validation_data=tf_dataset_val, epochs=20, batch_size=8, callbacks=[early_stopping])\n",
        "\n",
        "import matplotlib.pyplot as plt\n",
        "\n",
        "def plot_history(history):\n",
        "    plt.plot(history.history['loss'], label='Training Loss')\n",
        "    plt.plot(history.history['val_loss'], label='Validation Loss')\n",
        "    plt.title('Training and Validation Loss')\n",
        "    plt.ylabel('Loss')\n",
        "    plt.xlabel('Epoch')\n",
        "    plt.legend()\n",
        "    plt.show()\n",
        "\n",
        "plot_history(history)  # Do this for each model\n",
        "\n",
        "\n",
        "# test accuracy\n",
        "test_loss, test_accuracy = model_EfficientNetB0.evaluate(tf_dataset_test)\n",
        "print(f\"Test Accuracy: {test_accuracy}, Test Loss: {test_loss}\")\n"
      ],
      "metadata": {
        "colab": {
          "base_uri": "https://localhost:8080/",
          "height": 646
        },
        "id": "L_PxZYGJLZKn",
        "outputId": "551de490-b116-4eb8-e3ec-18a4a9376ab8"
      },
      "execution_count": 23,
      "outputs": [
        {
          "output_type": "stream",
          "name": "stdout",
          "text": [
            "Epoch 1/20\n",
            "60/60 [==============================] - 36s 427ms/step - loss: 0.1009 - accuracy: 0.9681 - val_loss: 1.4772 - val_accuracy: 0.5452\n",
            "Epoch 2/20\n",
            "60/60 [==============================] - 23s 387ms/step - loss: 0.0418 - accuracy: 0.9864 - val_loss: 1.6163 - val_accuracy: 0.4356\n",
            "Epoch 3/20\n",
            "60/60 [==============================] - 25s 411ms/step - loss: 0.0275 - accuracy: 0.9906 - val_loss: 1.5097 - val_accuracy: 0.5534\n",
            "Epoch 4/20\n",
            "60/60 [==============================] - 23s 375ms/step - loss: 0.0126 - accuracy: 0.9974 - val_loss: 1.8210 - val_accuracy: 0.5151\n"
          ]
        },
        {
          "output_type": "display_data",
          "data": {
            "text/plain": [
              "<Figure size 640x480 with 1 Axes>"
            ],
            "image/png": "[encoded data removed]"
          },
          "metadata": {}
        },
        {
          "output_type": "stream",
          "name": "stdout",
          "text": [
            "60/60 [==============================] - 17s 276ms/step - loss: 0.0171 - accuracy: 0.9974\n",
            "Test Accuracy: 0.997389018535614, Test Loss: 0.017089687287807465\n"
          ]
        }
      ]
    },
    {
      "cell_type": "code",
      "source": [
        "#for ResNet50\n",
        "\n",
        "\n",
        "history = model_ResNet50.fit(tf_dataset_train, validation_data=tf_dataset_val, epochs=20, batch_size=8, callbacks=[early_stopping])\n",
        "\n",
        "import matplotlib.pyplot as plt\n",
        "\n",
        "def plot_history(history):\n",
        "    plt.plot(history.history['loss'], label='Training Loss')\n",
        "    plt.plot(history.history['val_loss'], label='Validation Loss')\n",
        "    plt.title('Training and Validation Loss')\n",
        "    plt.ylabel('Loss')\n",
        "    plt.xlabel('Epoch')\n",
        "    plt.legend()\n",
        "    plt.show()\n",
        "\n",
        "plot_history(history)  # Do this for each model\n",
        "\n",
        "\n",
        "# test accuracy\n",
        "test_loss, test_accuracy = model_ResNet50.evaluate(tf_dataset_test)\n",
        "print(f\"Test Accuracy: {test_accuracy}, Test Loss: {test_loss}\")"
      ],
      "metadata": {
        "id": "EHYZM8ejLbkh",
        "colab": {
          "base_uri": "https://localhost:8080/",
          "height": 819
        },
        "outputId": "9a1fb556-29af-48c5-e9c8-238fea310b8c"
      },
      "execution_count": 24,
      "outputs": [
        {
          "output_type": "stream",
          "name": "stdout",
          "text": [
            "Epoch 1/20\n",
            "60/60 [==============================] - 45s 627ms/step - loss: 0.1274 - accuracy: 0.9619 - val_loss: 5.6835 - val_accuracy: 0.3973\n",
            "Epoch 2/20\n",
            "60/60 [==============================] - 29s 486ms/step - loss: 0.0232 - accuracy: 0.9916 - val_loss: 6.3371 - val_accuracy: 0.3781\n",
            "Epoch 3/20\n",
            "60/60 [==============================] - 28s 465ms/step - loss: 0.0164 - accuracy: 0.9953 - val_loss: 4.4667 - val_accuracy: 0.3370\n",
            "Epoch 4/20\n",
            "60/60 [==============================] - 27s 440ms/step - loss: 0.0136 - accuracy: 0.9963 - val_loss: 5.8565 - val_accuracy: 0.3507\n",
            "Epoch 5/20\n",
            "60/60 [==============================] - 28s 459ms/step - loss: 0.0064 - accuracy: 0.9974 - val_loss: 5.8685 - val_accuracy: 0.4274\n",
            "Epoch 6/20\n",
            "60/60 [==============================] - 30s 501ms/step - loss: 0.0076 - accuracy: 0.9979 - val_loss: 3.4961 - val_accuracy: 0.4438\n",
            "Epoch 7/20\n",
            "60/60 [==============================] - 29s 482ms/step - loss: 0.0055 - accuracy: 0.9990 - val_loss: 4.7700 - val_accuracy: 0.3726\n",
            "Epoch 8/20\n",
            "60/60 [==============================] - 28s 450ms/step - loss: 0.0017 - accuracy: 1.0000 - val_loss: 4.8837 - val_accuracy: 0.3397\n",
            "Epoch 9/20\n",
            "60/60 [==============================] - 30s 488ms/step - loss: 0.0010 - accuracy: 1.0000 - val_loss: 4.4998 - val_accuracy: 0.4055\n"
          ]
        },
        {
          "output_type": "display_data",
          "data": {
            "text/plain": [
              "<Figure size 640x480 with 1 Axes>"
            ],
            "image/png": "[encoded data removed]"
          },
          "metadata": {}
        },
        {
          "output_type": "stream",
          "name": "stdout",
          "text": [
            "60/60 [==============================] - 22s 362ms/step - loss: 1.2606e-04 - accuracy: 1.0000\n",
            "Test Accuracy: 1.0, Test Loss: 0.0001260594290215522\n"
          ]
        }
      ]
    },
    {
      "cell_type": "code",
      "source": [
        "#for VGG16\n",
        "\n",
        "history = model_VGG16.fit(tf_dataset_train, validation_data=tf_dataset_val, epochs=20, batch_size=8, callbacks=[early_stopping])\n",
        "\n",
        "import matplotlib.pyplot as plt\n",
        "\n",
        "def plot_history(history):\n",
        "    plt.plot(history.history['loss'], label='Training Loss')\n",
        "    plt.plot(history.history['val_loss'], label='Validation Loss')\n",
        "    plt.title('Training and Validation Loss')\n",
        "    plt.ylabel('Loss')\n",
        "    plt.xlabel('Epoch')\n",
        "    plt.legend()\n",
        "    plt.show()\n",
        "\n",
        "plot_history(history)  # Do this for each model\n",
        "\n",
        "\n",
        "# test accuracy\n",
        "test_loss, test_accuracy = model_VGG16.evaluate(tf_dataset_test)\n",
        "\n",
        "val_loss, val_accuracy = model_VGG16.evaluate(tf_dataset_val)\n",
        "\n",
        "print(f\"Test Accuracy: {test_accuracy}, Test Loss: {test_loss}\")\n",
        "\n",
        "print(f\"val Accuracy: {val_accuracy}, val Loss: {val_loss}\")"
      ],
      "metadata": {
        "id": "SEF7DNi0Ldx8",
        "colab": {
          "base_uri": "https://localhost:8080/",
          "height": 889
        },
        "outputId": "ade5a719-3af9-4094-96a0-63a993c93df6"
      },
      "execution_count": 25,
      "outputs": [
        {
          "output_type": "stream",
          "name": "stdout",
          "text": [
            "Epoch 1/20\n",
            "60/60 [==============================] - 50s 716ms/step - loss: 0.1438 - accuracy: 0.9473 - val_loss: 3.0777 - val_accuracy: 0.5863\n",
            "Epoch 2/20\n",
            "60/60 [==============================] - 37s 610ms/step - loss: 0.0450 - accuracy: 0.9864 - val_loss: 2.5763 - val_accuracy: 0.5753\n",
            "Epoch 3/20\n",
            "60/60 [==============================] - 34s 568ms/step - loss: 0.0383 - accuracy: 0.9859 - val_loss: 1.9623 - val_accuracy: 0.5945\n",
            "Epoch 4/20\n",
            "60/60 [==============================] - 35s 571ms/step - loss: 0.0180 - accuracy: 0.9953 - val_loss: 1.9415 - val_accuracy: 0.6438\n",
            "Epoch 5/20\n",
            "60/60 [==============================] - 41s 674ms/step - loss: 0.0290 - accuracy: 0.9906 - val_loss: 2.3199 - val_accuracy: 0.6110\n",
            "Epoch 6/20\n",
            "60/60 [==============================] - 35s 565ms/step - loss: 0.0271 - accuracy: 0.9906 - val_loss: 2.2837 - val_accuracy: 0.6110\n",
            "Epoch 7/20\n",
            "60/60 [==============================] - 35s 577ms/step - loss: 0.0329 - accuracy: 0.9901 - val_loss: 1.5361 - val_accuracy: 0.6411\n",
            "Epoch 8/20\n",
            "60/60 [==============================] - 40s 657ms/step - loss: 0.0154 - accuracy: 0.9958 - val_loss: 2.7670 - val_accuracy: 0.5425\n",
            "Epoch 9/20\n",
            "60/60 [==============================] - 37s 606ms/step - loss: 0.0164 - accuracy: 0.9943 - val_loss: 2.8617 - val_accuracy: 0.5836\n",
            "Epoch 10/20\n",
            "60/60 [==============================] - 35s 565ms/step - loss: 0.0139 - accuracy: 0.9958 - val_loss: 1.9858 - val_accuracy: 0.6630\n"
          ]
        },
        {
          "output_type": "display_data",
          "data": {
            "text/plain": [
              "<Figure size 640x480 with 1 Axes>"
            ],
            "image/png": "[encoded data removed]"
          },
          "metadata": {}
        },
        {
          "output_type": "stream",
          "name": "stdout",
          "text": [
            "60/60 [==============================] - 25s 406ms/step - loss: 0.0040 - accuracy: 0.9984\n",
            "12/12 [==============================] - 5s 369ms/step - loss: 1.5361 - accuracy: 0.6411\n",
            "Test Accuracy: 0.9984334111213684, Test Loss: 0.003967181779444218\n",
            "val Accuracy: 0.6410958766937256, val Loss: 1.536091685295105\n"
          ]
        }
      ]
    },
    {
      "cell_type": "markdown",
      "source": [
        "# (d) v"
      ],
      "metadata": {
        "id": "iQsokhHX4c7R"
      }
    },
    {
      "cell_type": "code",
      "source": [
        "from sklearn.metrics import precision_score, recall_score, f1_score\n",
        "import numpy as np\n",
        "\n",
        "\n",
        "from tensorflow.keras.callbacks import ModelCheckpoint\n",
        "\n",
        "\n",
        "\n",
        "# Define your models and their names\n",
        "models = [model_EfficientNetB0, model_ResNet50, model_VGG16]\n",
        "model_names = [\"EfficientNetB0\", \"ResNet50\", \"VGG16\"]\n",
        "\n",
        "for model, name in zip(models, model_names):\n",
        "    true_labels = []\n",
        "    predicted_labels = []\n",
        "\n",
        "    # Iterate over the test dataset\n",
        "    for images, labels in tf_dataset_test:\n",
        "        # Predict\n",
        "        predicted_probs = model.predict(images, verbose=0)\n",
        "        # Convert probabilities to class indices\n",
        "        preds = np.argmax(predicted_probs, axis=1)\n",
        "\n",
        "        true_labels.extend(np.argmax(labels.numpy(), axis=1))\n",
        "        predicted_labels.extend(preds)\n",
        "\n",
        "    # Convert lists to numpy arrays\n",
        "    true_labels = np.array(true_labels)\n",
        "    predicted_labels = np.array(predicted_labels)\n",
        "\n",
        "    # Calculate metrics\n",
        "    precision = precision_score(true_labels, predicted_labels, average='macro')\n",
        "    recall = recall_score(true_labels, predicted_labels, average='macro')\n",
        "    f1 = f1_score(true_labels, predicted_labels, average='macro')\n",
        "\n",
        "    # Print metrics with model name\n",
        "    print(f'Metrics for {name}:')\n",
        "    print(\"Precision:\", precision)\n",
        "    print(\"Recall:\", recall)\n",
        "    print(\"F1 Score:\", f1)\n"
      ],
      "metadata": {
        "colab": {
          "base_uri": "https://localhost:8080/"
        },
        "id": "QHVT1yTb4gKX",
        "outputId": "642eec19-47c8-402a-d47a-b5ba5a1a52d3"
      },
      "execution_count": 26,
      "outputs": [
        {
          "output_type": "stream",
          "name": "stdout",
          "text": [
            "Metrics for EfficientNetB0:\n",
            "Precision: 0.9971370645776276\n",
            "Recall: 0.9966410474267735\n",
            "F1 Score: 0.9968886082769195\n",
            "Metrics for ResNet50:\n",
            "Precision: 1.0\n",
            "Recall: 1.0\n",
            "F1 Score: 1.0\n",
            "Metrics for VGG16:\n",
            "Precision: 0.9988839285714286\n",
            "Recall: 0.9973867595818815\n",
            "F1 Score: 0.9981312971140006\n"
          ]
        }
      ]
    },
    {
      "cell_type": "markdown",
      "source": [
        "# (d) vi"
      ],
      "metadata": {
        "id": "XorND_Sugv7R"
      }
    },
    {
      "cell_type": "markdown",
      "source": [
        "CNN + MLP Results: Precision: 0.675776397515528\n",
        "Recall: 0.9477351916376306\n",
        "F1 Score: 0.7889775199419871"
      ],
      "metadata": {
        "id": "x5Tehsaxg4fH"
      }
    },
    {
      "cell_type": "markdown",
      "source": [
        "The results from transfer learning show that the transfer learning models all performed better than the CNN + MLP model. This is not suprising, as the transfer learning models were trained on a much larger data base and have a much more complex architecture than the CNN + MLP Model. Of the transfer learning models, ResNet50 performed best."
      ],
      "metadata": {
        "id": "8UwkgWBlhJz8"
      }
    }
  ]
}