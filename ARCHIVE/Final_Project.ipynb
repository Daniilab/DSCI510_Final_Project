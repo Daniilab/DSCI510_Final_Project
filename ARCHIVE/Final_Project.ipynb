{
 "cells": [
  {
   "cell_type": "code",
   "execution_count": 7,
   "metadata": {},
   "outputs": [
    {
     "name": "stderr",
     "output_type": "stream",
     "text": [
      "[nltk_data] Downloading package vader_lexicon to\n",
      "[nltk_data]     /Users/daniilabbruzzese/nltk_data...\n",
      "[nltk_data]   Package vader_lexicon is already up-to-date!\n"
     ]
    }
   ],
   "source": [
    "''''\n",
    "Link to Github repository:\n",
    "\n",
    "https://github.com/Daniilab/DSCI510_Final_Project.git\n",
    "\n",
    "'''\n",
    "\n",
    "from psaw import PushshiftAPI                               #Importing wrapper library for reddit(Pushshift)\n",
    "import datetime as dt                                       #Importing library for date management\n",
    "import pandas as pd                                         #Importing library for data manipulation in python\n",
    "import matplotlib.pyplot as plt      \n",
    "import yfinance as yf                    #Importing library for creating interactive visualizations in Python\n",
    "import nltk\n",
    "from nltk.sentiment import SentimentIntensityAnalyzer\n",
    "import statsmodels.formula.api as smf\n",
    "import textwrap\n",
    "import numpy as np\n",
    "nltk.download('vader_lexicon') \n",
    "sia = SentimentIntensityAnalyzer()"
   ]
  },
  {
   "cell_type": "code",
   "execution_count": 10,
   "metadata": {},
   "outputs": [
    {
     "ename": "KeyboardInterrupt",
     "evalue": "",
     "output_type": "error",
     "traceback": [
      "\u001b[0;31m---------------------------------------------------------------------------\u001b[0m",
      "\u001b[0;31mKeyboardInterrupt\u001b[0m                         Traceback (most recent call last)",
      "\u001b[1;32m/Users/daniilabbruzzese/Documents/Academics/College/Senior Year/Data Science/Final Project/DSCI510_Final_Project/Final_Project.ipynb Cell 2\u001b[0m in \u001b[0;36m<cell line: 1>\u001b[0;34m()\u001b[0m\n\u001b[0;32m----> <a href='vscode-notebook-cell:/Users/daniilabbruzzese/Documents/Academics/College/Senior%20Year/Data%20Science/Final%20Project/DSCI510_Final_Project/Final_Project.ipynb#W1sZmlsZQ%3D%3D?line=0'>1</a>\u001b[0m api \u001b[39m=\u001b[39m PushshiftAPI()\n",
      "File \u001b[0;32m~/opt/anaconda3/lib/python3.9/site-packages/psaw/PushshiftAPI.py:326\u001b[0m, in \u001b[0;36mPushshiftAPI.__init__\u001b[0;34m(self, r, *args, **kwargs)\u001b[0m\n\u001b[1;32m    289\u001b[0m \u001b[39mdef\u001b[39;00m \u001b[39m__init__\u001b[39m(\u001b[39mself\u001b[39m, r\u001b[39m=\u001b[39m\u001b[39mNone\u001b[39;00m, \u001b[39m*\u001b[39margs, \u001b[39m*\u001b[39m\u001b[39m*\u001b[39mkwargs):\n\u001b[1;32m    290\u001b[0m     \u001b[39m\"\"\"\u001b[39;00m\n\u001b[1;32m    291\u001b[0m \u001b[39m    Helper class for interacting with the PushShift API for searching public reddit archival data.\u001b[39;00m\n\u001b[1;32m    292\u001b[0m \u001b[39m    \u001b[39;00m\n\u001b[0;32m   (...)\u001b[0m\n\u001b[1;32m    324\u001b[0m \u001b[39m    :type shards_down_behavior: str, optional\u001b[39;00m\n\u001b[1;32m    325\u001b[0m \u001b[39m    \"\"\"\u001b[39;00m\n\u001b[0;32m--> 326\u001b[0m     \u001b[39msuper\u001b[39;49m()\u001b[39m.\u001b[39;49m\u001b[39m__init__\u001b[39;49m(\u001b[39m*\u001b[39;49margs, \u001b[39m*\u001b[39;49m\u001b[39m*\u001b[39;49mkwargs)\n\u001b[1;32m    327\u001b[0m     \u001b[39mself\u001b[39m\u001b[39m.\u001b[39mr \u001b[39m=\u001b[39m r\n\u001b[1;32m    328\u001b[0m     \u001b[39mself\u001b[39m\u001b[39m.\u001b[39m_search_func \u001b[39m=\u001b[39m \u001b[39mself\u001b[39m\u001b[39m.\u001b[39m_search\n",
      "File \u001b[0;32m~/opt/anaconda3/lib/python3.9/site-packages/psaw/PushshiftAPI.py:94\u001b[0m, in \u001b[0;36mPushshiftAPIMinimal.__init__\u001b[0;34m(self, max_retries, max_sleep, backoff, rate_limit_per_minute, max_results_per_request, detect_local_tz, utc_offset_secs, domain, https_proxy, shards_down_behavior)\u001b[0m\n\u001b[1;32m     92\u001b[0m \u001b[39mif\u001b[39;00m rate_limit_per_minute \u001b[39mis\u001b[39;00m \u001b[39mNone\u001b[39;00m:\n\u001b[1;32m     93\u001b[0m     log\u001b[39m.\u001b[39mdebug(\u001b[39m\"\u001b[39m\u001b[39mConnecting to /meta endpoint to learn rate limit.\u001b[39m\u001b[39m\"\u001b[39m)\n\u001b[0;32m---> 94\u001b[0m     response \u001b[39m=\u001b[39m \u001b[39mself\u001b[39;49m\u001b[39m.\u001b[39;49m_get(\u001b[39mself\u001b[39;49m\u001b[39m.\u001b[39;49mbase_url\u001b[39m.\u001b[39;49mformat(endpoint\u001b[39m=\u001b[39;49m\u001b[39m'\u001b[39;49m\u001b[39mmeta\u001b[39;49m\u001b[39m'\u001b[39;49m))\n\u001b[1;32m     95\u001b[0m     rate_limit_per_minute \u001b[39m=\u001b[39m response[\u001b[39m'\u001b[39m\u001b[39mserver_ratelimit_per_minute\u001b[39m\u001b[39m'\u001b[39m]\n\u001b[1;32m     96\u001b[0m     log\u001b[39m.\u001b[39mdebug(\u001b[39m\"\u001b[39m\u001b[39mserver_ratelimit_per_minute: \u001b[39m\u001b[39m%s\u001b[39;00m\u001b[39m\"\u001b[39m \u001b[39m%\u001b[39m rate_limit_per_minute)\n",
      "File \u001b[0;32m~/opt/anaconda3/lib/python3.9/site-packages/psaw/PushshiftAPI.py:181\u001b[0m, in \u001b[0;36mPushshiftAPIMinimal._get\u001b[0;34m(self, url, payload)\u001b[0m\n\u001b[1;32m    179\u001b[0m \u001b[39mif\u001b[39;00m i \u001b[39m>\u001b[39m \u001b[39m0\u001b[39m:\n\u001b[1;32m    180\u001b[0m     warnings\u001b[39m.\u001b[39mwarn(\u001b[39m\"\u001b[39m\u001b[39mUnable to connect to pushshift.io. Retrying after backoff.\u001b[39m\u001b[39m\"\u001b[39m)\n\u001b[0;32m--> 181\u001b[0m \u001b[39mself\u001b[39;49m\u001b[39m.\u001b[39;49m_impose_rate_limit(i)\n\u001b[1;32m    182\u001b[0m i\u001b[39m+\u001b[39m\u001b[39m=\u001b[39m\u001b[39m1\u001b[39m\n\u001b[1;32m    183\u001b[0m \u001b[39mtry\u001b[39;00m:\n",
      "File \u001b[0;32m~/opt/anaconda3/lib/python3.9/site-packages/psaw/PushshiftAPI.py:151\u001b[0m, in \u001b[0;36mPushshiftAPIMinimal._impose_rate_limit\u001b[0;34m(self, nth_request)\u001b[0m\n\u001b[1;32m    149\u001b[0m \u001b[39mif\u001b[39;00m interval \u001b[39m>\u001b[39m \u001b[39m0\u001b[39m:\n\u001b[1;32m    150\u001b[0m     log\u001b[39m.\u001b[39mdebug(\u001b[39m\"\u001b[39m\u001b[39mImposing rate limit, sleeping for \u001b[39m\u001b[39m%s\u001b[39;00m\u001b[39m\"\u001b[39m \u001b[39m%\u001b[39m interval)\n\u001b[0;32m--> 151\u001b[0m     time\u001b[39m.\u001b[39;49msleep(interval)\n",
      "\u001b[0;31mKeyboardInterrupt\u001b[0m: "
     ]
    }
   ],
   "source": [
    "api = PushshiftAPI()  #establishing the API "
   ]
  },
  {
   "cell_type": "code",
   "execution_count": 3,
   "metadata": {},
   "outputs": [],
   "source": [
    "#Setting parameters for time frame, what subreddit I will be scraping, and how many comments I want to scrape\n",
    "\n",
    "before = int(dt.datetime(2021,2,26,0,0).timestamp()) #.timestamp() converts the date to epoch time \n",
    "after = int(dt.datetime(2021,1,1,0,0).timestamp())\n",
    "\n",
    "subreddit=\"wallstreetbets\"\n",
    "limit=25000\n"
   ]
  },
  {
   "cell_type": "code",
   "execution_count": null,
   "metadata": {},
   "outputs": [],
   "source": [
    "#Creating a stock price data frame function\n",
    "\n",
    "def Stock_Price_Data(ticker, after, before):\n",
    "    data = yf.download(ticker,after,before)\n",
    "\n",
    "    stock_price_df = pd.DataFrame(data)\n",
    "    stock_price_df = stock_price_df.reset_index() #making Date a column rather than an index\n",
    "    stock_price_df['Date'] = stock_price_df['Date'].astype(str) #convert Date to string format to prepare for merge\n",
    "    \n",
    "    return stock_price_df\n"
   ]
  },
  {
   "cell_type": "code",
   "execution_count": null,
   "metadata": {},
   "outputs": [
    {
     "name": "stdout",
     "output_type": "stream",
     "text": [
      "[*********************100%***********************]  1 of 1 completed\n"
     ]
    }
   ],
   "source": [
    "#generating a stock price data frame for Game Stop\n",
    "stockpriceGme = Stock_Price_Data(\"GME\", after, before)"
   ]
  },
  {
   "cell_type": "markdown",
   "metadata": {},
   "source": [
    "# Sentiment & Score Analysis\n"
   ]
  },
  {
   "cell_type": "code",
   "execution_count": null,
   "metadata": {},
   "outputs": [],
   "source": [
    "#creating a function that creates a dataframe of reddit comment data\n",
    "\n",
    "\n",
    "def Reddit_Comment_Data2 (word_to_check, subbreddit, limit, before, after):\n",
    "\n",
    "#grabbing desired comments using the Pushshift API\n",
    "    comments = api.search_comments(q = word_to_check, subreddit= subreddit, limit= limit, before=before, after=after)\n",
    "    comments_list=[]\n",
    "\n",
    "#within the grabbed comments, I only want each comment's score, date posted, and text\n",
    "    for comment in comments:\n",
    "        comments_list.append(\n",
    "            {\"score\": comment.score, \"Date\":comment.created, \"comment_text\": comment.body}\n",
    "        )\n",
    "\n",
    "    #turning the list into a master data frame\n",
    "    comments_df=pd.DataFrame(comments_list)\n",
    "\n",
    "    comments_df[\"Date\"] = pd.to_datetime(comments_df[\"Date\"], unit=\"s\").dt.date\n",
    "\n",
    "    # creating a new column with the compound sentiment score of each comment in the data frame\n",
    "    comments_df['Sentiment'] = comments_df['comment_text'].apply(lambda x: sia.polarity_scores(x)['compound'])\n",
    "\n",
    "    #multipling the compound sentiment score by the net upvote score to create a 'weighted sentiment' for each comment\n",
    "    comments_df['Weighted Sentiment'] = comments_df['Sentiment']*comments_df['score']\n",
    "\n",
    "    #creating sentiment df that is grouped by date\n",
    "    grouped_weighted_sentiment_df = comments_df.groupby(by=\"Date\")[\"Weighted Sentiment\"].sum()\n",
    "    pd.DataFrame(grouped_weighted_sentiment_df)\n",
    "\n",
    "    #reseting the index and turning the data column into a string to prepare for a data frame merge\n",
    "    grouped_weighted_sentiment_df = grouped_weighted_sentiment_df.reset_index()\n",
    "    grouped_weighted_sentiment_df['Date'] = grouped_weighted_sentiment_df['Date'].astype(str)\n",
    "\n",
    "    #creating score df that is grouped by date\n",
    "    grouped_score_df = comments_df.groupby(by=\"Date\")[\"score\"].sum()\n",
    "    pd.DataFrame(grouped_score_df)\n",
    "\n",
    "   #reseting the index and turning the data column into a string to prepare for a data frame merge\n",
    "    grouped_score_df = grouped_score_df.reset_index()\n",
    "    grouped_score_df['Date'] = grouped_score_df['Date'].astype(str)\n",
    "\n",
    "    #merging the two data frames\n",
    "    score_sentiment_grouped_df = pd.merge(grouped_score_df, grouped_weighted_sentiment_df, on='Date')\n",
    "\n",
    "    return score_sentiment_grouped_df\n",
    "\n",
    "    #pd.set_option(\"display.max_colwidth\", -1) #this is how to view full comments_test text"
   ]
  },
  {
   "cell_type": "code",
   "execution_count": null,
   "metadata": {},
   "outputs": [],
   "source": [
    "\n",
    "r2 = Reddit_Comment_Data2(\"gme to the moon\", subreddit, limit, before, after)"
   ]
  },
  {
   "cell_type": "code",
   "execution_count": null,
   "metadata": {},
   "outputs": [
    {
     "data": {
      "text/html": [
       "<div>\n",
       "<style scoped>\n",
       "    .dataframe tbody tr th:only-of-type {\n",
       "        vertical-align: middle;\n",
       "    }\n",
       "\n",
       "    .dataframe tbody tr th {\n",
       "        vertical-align: top;\n",
       "    }\n",
       "\n",
       "    .dataframe thead th {\n",
       "        text-align: right;\n",
       "    }\n",
       "</style>\n",
       "<table border=\"1\" class=\"dataframe\">\n",
       "  <thead>\n",
       "    <tr style=\"text-align: right;\">\n",
       "      <th></th>\n",
       "      <th>Date</th>\n",
       "      <th>score</th>\n",
       "      <th>Weighted Sentiment</th>\n",
       "      <th>Open</th>\n",
       "      <th>High</th>\n",
       "      <th>Low</th>\n",
       "      <th>Close</th>\n",
       "      <th>Adj Close</th>\n",
       "      <th>Volume</th>\n",
       "      <th>Pct Change of Score</th>\n",
       "      <th>Pct Change of Closing Price</th>\n",
       "    </tr>\n",
       "  </thead>\n",
       "  <tbody>\n",
       "    <tr>\n",
       "      <th>0</th>\n",
       "      <td>2021-02-03</td>\n",
       "      <td>5745</td>\n",
       "      <td>1318.4230</td>\n",
       "      <td>28.002501</td>\n",
       "      <td>28.350000</td>\n",
       "      <td>21.3125</td>\n",
       "      <td>23.102501</td>\n",
       "      <td>23.102501</td>\n",
       "      <td>170794000</td>\n",
       "      <td>NaN</td>\n",
       "      <td>NaN</td>\n",
       "    </tr>\n",
       "    <tr>\n",
       "      <th>1</th>\n",
       "      <td>2021-02-04</td>\n",
       "      <td>2568</td>\n",
       "      <td>461.1460</td>\n",
       "      <td>22.797501</td>\n",
       "      <td>22.875000</td>\n",
       "      <td>13.3325</td>\n",
       "      <td>13.375000</td>\n",
       "      <td>13.375000</td>\n",
       "      <td>249709200</td>\n",
       "      <td>-55.300261</td>\n",
       "      <td>-42.105835</td>\n",
       "    </tr>\n",
       "    <tr>\n",
       "      <th>2</th>\n",
       "      <td>2021-02-08</td>\n",
       "      <td>156</td>\n",
       "      <td>-12.3312</td>\n",
       "      <td>18.102501</td>\n",
       "      <td>18.165001</td>\n",
       "      <td>14.5050</td>\n",
       "      <td>15.000000</td>\n",
       "      <td>15.000000</td>\n",
       "      <td>102749200</td>\n",
       "      <td>-93.925234</td>\n",
       "      <td>12.149533</td>\n",
       "    </tr>\n",
       "    <tr>\n",
       "      <th>3</th>\n",
       "      <td>2021-02-09</td>\n",
       "      <td>851</td>\n",
       "      <td>-36.3678</td>\n",
       "      <td>14.152500</td>\n",
       "      <td>14.250000</td>\n",
       "      <td>11.6300</td>\n",
       "      <td>12.577500</td>\n",
       "      <td>12.577500</td>\n",
       "      <td>107372400</td>\n",
       "      <td>445.512821</td>\n",
       "      <td>-16.149998</td>\n",
       "    </tr>\n",
       "    <tr>\n",
       "      <th>4</th>\n",
       "      <td>2021-02-10</td>\n",
       "      <td>2969</td>\n",
       "      <td>307.4313</td>\n",
       "      <td>12.692500</td>\n",
       "      <td>15.707500</td>\n",
       "      <td>11.6375</td>\n",
       "      <td>12.800000</td>\n",
       "      <td>12.800000</td>\n",
       "      <td>145820000</td>\n",
       "      <td>248.883666</td>\n",
       "      <td>1.769031</td>\n",
       "    </tr>\n",
       "    <tr>\n",
       "      <th>5</th>\n",
       "      <td>2021-02-11</td>\n",
       "      <td>1444</td>\n",
       "      <td>-12.7882</td>\n",
       "      <td>12.502500</td>\n",
       "      <td>13.830000</td>\n",
       "      <td>12.0550</td>\n",
       "      <td>12.775000</td>\n",
       "      <td>12.775000</td>\n",
       "      <td>52226800</td>\n",
       "      <td>-51.364096</td>\n",
       "      <td>-0.195317</td>\n",
       "    </tr>\n",
       "    <tr>\n",
       "      <th>6</th>\n",
       "      <td>2021-02-12</td>\n",
       "      <td>1386</td>\n",
       "      <td>110.7835</td>\n",
       "      <td>12.687500</td>\n",
       "      <td>13.810000</td>\n",
       "      <td>12.0125</td>\n",
       "      <td>13.100000</td>\n",
       "      <td>13.100000</td>\n",
       "      <td>58293200</td>\n",
       "      <td>-4.016620</td>\n",
       "      <td>2.544037</td>\n",
       "    </tr>\n",
       "    <tr>\n",
       "      <th>7</th>\n",
       "      <td>2021-02-16</td>\n",
       "      <td>38</td>\n",
       "      <td>2.1725</td>\n",
       "      <td>13.165000</td>\n",
       "      <td>13.375000</td>\n",
       "      <td>12.2600</td>\n",
       "      <td>12.377500</td>\n",
       "      <td>12.377500</td>\n",
       "      <td>32700000</td>\n",
       "      <td>-97.258297</td>\n",
       "      <td>-5.515273</td>\n",
       "    </tr>\n",
       "    <tr>\n",
       "      <th>8</th>\n",
       "      <td>2021-02-17</td>\n",
       "      <td>30</td>\n",
       "      <td>-6.0471</td>\n",
       "      <td>12.442500</td>\n",
       "      <td>12.797500</td>\n",
       "      <td>11.1400</td>\n",
       "      <td>11.485000</td>\n",
       "      <td>11.485000</td>\n",
       "      <td>36747200</td>\n",
       "      <td>-21.052632</td>\n",
       "      <td>-7.210664</td>\n",
       "    </tr>\n",
       "    <tr>\n",
       "      <th>9</th>\n",
       "      <td>2021-02-18</td>\n",
       "      <td>138</td>\n",
       "      <td>-25.7753</td>\n",
       "      <td>12.122500</td>\n",
       "      <td>12.217500</td>\n",
       "      <td>10.1625</td>\n",
       "      <td>10.172500</td>\n",
       "      <td>10.172500</td>\n",
       "      <td>95962400</td>\n",
       "      <td>360.000000</td>\n",
       "      <td>-11.427950</td>\n",
       "    </tr>\n",
       "    <tr>\n",
       "      <th>10</th>\n",
       "      <td>2021-02-19</td>\n",
       "      <td>498</td>\n",
       "      <td>-13.4847</td>\n",
       "      <td>10.320000</td>\n",
       "      <td>10.972500</td>\n",
       "      <td>9.6250</td>\n",
       "      <td>10.147500</td>\n",
       "      <td>10.147500</td>\n",
       "      <td>59312800</td>\n",
       "      <td>260.869565</td>\n",
       "      <td>-0.245757</td>\n",
       "    </tr>\n",
       "    <tr>\n",
       "      <th>11</th>\n",
       "      <td>2021-02-22</td>\n",
       "      <td>304</td>\n",
       "      <td>27.5220</td>\n",
       "      <td>11.672500</td>\n",
       "      <td>12.127500</td>\n",
       "      <td>10.6000</td>\n",
       "      <td>11.500000</td>\n",
       "      <td>11.500000</td>\n",
       "      <td>77904000</td>\n",
       "      <td>-38.955823</td>\n",
       "      <td>13.328406</td>\n",
       "    </tr>\n",
       "    <tr>\n",
       "      <th>12</th>\n",
       "      <td>2021-02-23</td>\n",
       "      <td>1292</td>\n",
       "      <td>64.0014</td>\n",
       "      <td>11.242500</td>\n",
       "      <td>11.557500</td>\n",
       "      <td>10.0000</td>\n",
       "      <td>11.242500</td>\n",
       "      <td>11.242500</td>\n",
       "      <td>30260800</td>\n",
       "      <td>325.000000</td>\n",
       "      <td>-2.239128</td>\n",
       "    </tr>\n",
       "    <tr>\n",
       "      <th>13</th>\n",
       "      <td>2021-02-24</td>\n",
       "      <td>1849</td>\n",
       "      <td>580.2745</td>\n",
       "      <td>11.175000</td>\n",
       "      <td>22.927500</td>\n",
       "      <td>11.1750</td>\n",
       "      <td>22.927500</td>\n",
       "      <td>22.927500</td>\n",
       "      <td>332446800</td>\n",
       "      <td>43.111455</td>\n",
       "      <td>103.935950</td>\n",
       "    </tr>\n",
       "    <tr>\n",
       "      <th>14</th>\n",
       "      <td>2021-02-25</td>\n",
       "      <td>15631</td>\n",
       "      <td>3734.3151</td>\n",
       "      <td>42.389999</td>\n",
       "      <td>46.169998</td>\n",
       "      <td>25.2500</td>\n",
       "      <td>27.182501</td>\n",
       "      <td>27.182501</td>\n",
       "      <td>601235200</td>\n",
       "      <td>745.375879</td>\n",
       "      <td>18.558504</td>\n",
       "    </tr>\n",
       "  </tbody>\n",
       "</table>\n",
       "</div>"
      ],
      "text/plain": [
       "          Date  score  Weighted Sentiment       Open       High      Low  \\\n",
       "0   2021-02-03   5745           1318.4230  28.002501  28.350000  21.3125   \n",
       "1   2021-02-04   2568            461.1460  22.797501  22.875000  13.3325   \n",
       "2   2021-02-08    156            -12.3312  18.102501  18.165001  14.5050   \n",
       "3   2021-02-09    851            -36.3678  14.152500  14.250000  11.6300   \n",
       "4   2021-02-10   2969            307.4313  12.692500  15.707500  11.6375   \n",
       "5   2021-02-11   1444            -12.7882  12.502500  13.830000  12.0550   \n",
       "6   2021-02-12   1386            110.7835  12.687500  13.810000  12.0125   \n",
       "7   2021-02-16     38              2.1725  13.165000  13.375000  12.2600   \n",
       "8   2021-02-17     30             -6.0471  12.442500  12.797500  11.1400   \n",
       "9   2021-02-18    138            -25.7753  12.122500  12.217500  10.1625   \n",
       "10  2021-02-19    498            -13.4847  10.320000  10.972500   9.6250   \n",
       "11  2021-02-22    304             27.5220  11.672500  12.127500  10.6000   \n",
       "12  2021-02-23   1292             64.0014  11.242500  11.557500  10.0000   \n",
       "13  2021-02-24   1849            580.2745  11.175000  22.927500  11.1750   \n",
       "14  2021-02-25  15631           3734.3151  42.389999  46.169998  25.2500   \n",
       "\n",
       "        Close  Adj Close     Volume  Pct Change of Score  \\\n",
       "0   23.102501  23.102501  170794000                  NaN   \n",
       "1   13.375000  13.375000  249709200           -55.300261   \n",
       "2   15.000000  15.000000  102749200           -93.925234   \n",
       "3   12.577500  12.577500  107372400           445.512821   \n",
       "4   12.800000  12.800000  145820000           248.883666   \n",
       "5   12.775000  12.775000   52226800           -51.364096   \n",
       "6   13.100000  13.100000   58293200            -4.016620   \n",
       "7   12.377500  12.377500   32700000           -97.258297   \n",
       "8   11.485000  11.485000   36747200           -21.052632   \n",
       "9   10.172500  10.172500   95962400           360.000000   \n",
       "10  10.147500  10.147500   59312800           260.869565   \n",
       "11  11.500000  11.500000   77904000           -38.955823   \n",
       "12  11.242500  11.242500   30260800           325.000000   \n",
       "13  22.927500  22.927500  332446800            43.111455   \n",
       "14  27.182501  27.182501  601235200           745.375879   \n",
       "\n",
       "    Pct Change of Closing Price  \n",
       "0                           NaN  \n",
       "1                    -42.105835  \n",
       "2                     12.149533  \n",
       "3                    -16.149998  \n",
       "4                      1.769031  \n",
       "5                     -0.195317  \n",
       "6                      2.544037  \n",
       "7                     -5.515273  \n",
       "8                     -7.210664  \n",
       "9                    -11.427950  \n",
       "10                    -0.245757  \n",
       "11                    13.328406  \n",
       "12                    -2.239128  \n",
       "13                   103.935950  \n",
       "14                    18.558504  "
      ]
     },
     "execution_count": 13,
     "metadata": {},
     "output_type": "execute_result"
    }
   ],
   "source": [
    "#merging the reddit data frame with the stock price data frame\n",
    "def mergeData(r2, stockpriceGme):\n",
    "    mergedData2 = pd.merge(r2, stockpriceGme, on='Date')\n",
    "\n",
    "    #creating percent change columns to prepare for time series visualizations in the analysis section\n",
    "    mergedData2['Pct Change of Score'] = mergedData2['score'].pct_change()*100\n",
    "    mergedData2['Pct Change of Closing Price'] = mergedData2['Close'].pct_change()*100\n",
    "    mergedData2.rename(columns={'Weighted Sentiment': 'Weighted_Sentiment'}, inplace=True)\n",
    "    mergedData2['Pct Change of WS'] = mergedData2['Weighted_Sentiment'].pct_change()*100\n",
    "\n",
    "    #deleting columns that I won't be using in analysis\n",
    "    del mergedData2[\"Adj Close\"]\n",
    "    del mergedData2[\"Open\"]\n",
    "    del mergedData2[\"High\"]\n",
    "    del mergedData2[\"Low\"]\n",
    "\n",
    "    return mergedData2\n"
   ]
  },
  {
   "cell_type": "code",
   "execution_count": null,
   "metadata": {},
   "outputs": [],
   "source": [
    "mergeData2 = mergeData(r2, stockpriceGme)"
   ]
  },
  {
   "cell_type": "markdown",
   "metadata": {},
   "source": [
    "# Linear Regression"
   ]
  },
  {
   "cell_type": "code",
   "execution_count": null,
   "metadata": {},
   "outputs": [
    {
     "name": "stdout",
     "output_type": "stream",
     "text": [
      "                            OLS Regression Results                            \n",
      "==============================================================================\n",
      "Dep. Variable:                  Close   R-squared:                       0.645\n",
      "Model:                            OLS   Adj. R-squared:                  0.618\n",
      "Method:                 Least Squares   F-statistic:                     23.61\n",
      "Date:                Wed, 07 Dec 2022   Prob (F-statistic):           0.000312\n",
      "Time:                        14:37:00   Log-Likelihood:                -37.944\n",
      "No. Observations:                  15   AIC:                             79.89\n",
      "Df Residuals:                      13   BIC:                             81.30\n",
      "Df Model:                           1                                         \n",
      "Covariance Type:            nonrobust                                         \n",
      "==============================================================================\n",
      "                 coef    std err          t      P>|t|      [0.025      0.975]\n",
      "------------------------------------------------------------------------------\n",
      "Intercept     12.1750      0.984     12.369      0.000      10.048      14.302\n",
      "score          0.0011      0.000      4.859      0.000       0.001       0.002\n",
      "==============================================================================\n",
      "Omnibus:                       14.662   Durbin-Watson:                   2.269\n",
      "Prob(Omnibus):                  0.001   Jarque-Bera (JB):               10.976\n",
      "Skew:                           1.769   Prob(JB):                      0.00414\n",
      "Kurtosis:                       5.247   Cond. No.                     5.25e+03\n",
      "==============================================================================\n",
      "\n",
      "Notes:\n",
      "[1] Standard Errors assume that the covariance matrix of the errors is correctly specified.\n",
      "[2] The condition number is large, 5.25e+03. This might indicate that there are\n",
      "strong multicollinearity or other numerical problems.\n"
     ]
    },
    {
     "name": "stderr",
     "output_type": "stream",
     "text": [
      "/Users/daniilabbruzzese/opt/anaconda3/lib/python3.9/site-packages/scipy/stats/stats.py:1541: UserWarning: kurtosistest only valid for n>=20 ... continuing anyway, n=15\n",
      "  warnings.warn(\"kurtosistest only valid for n>=20 ... continuing \"\n"
     ]
    }
   ],
   "source": [
    "#regression analysis\n",
    "def createModels(mergedData2):\n",
    "    # creating two models that have score and weighted sentiment as two different predictors of closing price\n",
    "    model1 = smf.ols('Close ~ score', mergedData2)\n",
    "    model2 = smf.ols('Close ~ Weighted_Sentiment', mergedData2)\n",
    "\n",
    "    results1 = model1.fit()\n",
    "    results2 = model2.fit()\n",
    "\n",
    "    # display the results\n",
    "    print(results1.summary())\n",
    "    print(results2.summary())\n",
    "\n",
    "    return model1, model2\n"
   ]
  },
  {
   "cell_type": "code",
   "execution_count": null,
   "metadata": {},
   "outputs": [],
   "source": [
    "model1, model2 = createModels(mergeData2)"
   ]
  },
  {
   "cell_type": "markdown",
   "metadata": {},
   "source": [
    "# Regression Visualizations"
   ]
  },
  {
   "cell_type": "code",
   "execution_count": null,
   "metadata": {},
   "outputs": [
    {
     "data": {
      "image/png": "[encoded data removed]",
      "text/plain": [
       "<Figure size 432x288 with 1 Axes>"
      ]
     },
     "metadata": {
      "needs_background": "light"
     },
     "output_type": "display_data"
    }
   ],
   "source": [
    "# Linear regression - Weighted Sentiment\n",
    "\n",
    "\n",
    "def regressionVisualizationWS(mergedData2):\n",
    "    # create a scatter plot of the data\n",
    "    mergedData2.plot(kind='scatter', x='Weighted_Sentiment', y='Close')\n",
    "\n",
    "    # fitting the linear regression model to the data\n",
    "    slope, intercept = np.polyfit(mergedData2['Weighted_Sentiment'], mergedData2['Close'], 1)\n",
    "\n",
    "    # adding a regression line to the scatter plot\n",
    "    plt.plot(mergedData2['Weighted_Sentiment'], slope*mergedData2['Weighted_Sentiment'] + intercept, color='red')\n",
    "\n",
    "    #adding a title\n",
    "    plt.title(\"Closing Price vs Daily Summed Weighted Sentiment\")\n",
    "\n",
    "\n",
    "    # add a description to the graph\n",
    "    description = textwrap.wrap(\"This figure shows a scatter plot of the closing price of Game Stop vs weighted summed sentiment score of that day, and a line of best fit used for the linear regression. This graph demonstrates how positive sentiment towards Game Stop on Reddit correlates to a price increase of its stock.\", width=60)\n",
    "\n",
    "    plt.text(-20, -45,'\\n'.join(description), fontsize=10, ha='left', va='bottom')\n",
    "\n",
    "    #saving the sigure as a new file\n",
    "    plt.savefig('regression_plot1.jpeg',dpi=300, bbox_inches = \"tight\")\n",
    "    # plt.savefig('regression_plot1.jpeg')\n",
    "\n",
    "    # show the plot\n",
    "    plt.show()"
   ]
  },
  {
   "cell_type": "code",
   "execution_count": null,
   "metadata": {},
   "outputs": [],
   "source": [
    "# Linear Regression - Score\n",
    "\n",
    "def regressionVisualizationScore(mergedData2):\n",
    "    # creating a scatter plot of the data\n",
    "    mergedData2.plot(kind='scatter', x='score', y='Close')\n",
    "\n",
    "    # fitting the linear regression model to the data\n",
    "    slope, intercept = np.polyfit(mergedData2['score'], mergedData2['Close'], 1)\n",
    "\n",
    "    # adding a regression line to the scatter plot\n",
    "    plt.plot(mergedData2['score'], slope*mergedData2['score'] + intercept, color='red')\n",
    "\n",
    "    #creating a title\n",
    "    plt.title('Closing Price vs Daily Summed Score')\n",
    "\n",
    "    # add a description to the graph\n",
    "    description = textwrap.wrap(\"This figure shows a scatter plot of the closing price of Game Stop vs summed score (net upvotes) of that day, and a line of best fit used for the linear regression. This graph utilizes an alternative variable to demonstrate how positive sentiment towards Game Stop on Reddit correlates to a price increase of its stock.\", width=60)\n",
    "\n",
    "    plt.text(-20, -45,'\\n'.join(description), fontsize=10, ha='left', va='bottom')\n",
    "\n",
    "    #saving figure as new file\n",
    "    plt.savefig('regression_plot2.jpeg',dpi=300, bbox_inches = \"tight\")\n",
    "\n",
    "    # show the plot\n",
    "    plt.show()"
   ]
  },
  {
   "cell_type": "markdown",
   "metadata": {},
   "source": [
    "# Time Series Visualizations"
   ]
  },
  {
   "cell_type": "code",
   "execution_count": null,
   "metadata": {},
   "outputs": [
    {
     "data": {
      "text/plain": [
       "<AxesSubplot:>"
      ]
     },
     "execution_count": 16,
     "metadata": {},
     "output_type": "execute_result"
    },
    {
     "data": {
      "image/png": "[encoded data removed]",
      "text/plain": [
       "<Figure size 432x288 with 2 Axes>"
      ]
     },
     "metadata": {
      "needs_background": "light"
     },
     "output_type": "display_data"
    }
   ],
   "source": [
    "#For Score\n",
    "\n",
    "def timeSeriesVisualizationScore(mergedData2):\n",
    "    fig, ax = plt.subplots() # Create the figure and axes object\n",
    "\n",
    "    # Plotting date on the x axis and percent change of score (net upvotes) on the y axis\n",
    "    mergedData2.plot(x = 'Date', y = 'Pct Change of Score', ax = ax) \n",
    "\n",
    "    #adding the percent change of closing price to the graph\n",
    "    mergedData2.plot(x = 'Date', y = 'Pct Change of Closing Price', ax = ax, secondary_y = True) \n",
    "    plt.title('Percent Change of Score and Closing Price vs Time')\n",
    "\n",
    "    # add a description to the graph\n",
    "    description = textwrap.wrap(\"This figure shows how the summed daily score of comments mentioning Game Stop and Game Stop's stock price varies with time. This graph shows that changes in price preceed changes in score, suggesting that stock price changes is the leading variable.\", width=60)\n",
    "\n",
    "    plt.text(0, -280,'\\n'.join(description), fontsize=10, ha='left', va='bottom')\n",
    "\n",
    "    #saving the figure as a new file\n",
    "    plt.savefig('time_series_plot1.jpeg',dpi=300, bbox_inches = \"tight\")"
   ]
  },
  {
   "cell_type": "code",
   "execution_count": null,
   "metadata": {},
   "outputs": [
    {
     "data": {
      "text/plain": [
       "<AxesSubplot:xlabel='Pct Change of Score', ylabel='Pct Change of Closing Price'>"
      ]
     },
     "execution_count": 17,
     "metadata": {},
     "output_type": "execute_result"
    },
    {
     "data": {
      "image/png": "[encoded data removed]",
      "text/plain": [
       "<Figure size 432x288 with 1 Axes>"
      ]
     },
     "metadata": {
      "needs_background": "light"
     },
     "output_type": "display_data"
    }
   ],
   "source": [
    "# For Weighted Sentiment\n",
    "\n",
    "def timeSeriesVisualizationWS(mergedData2):\n",
    "    fig, ax = plt.subplots() # Create the figure and axes object\n",
    "\n",
    "    # Plotting date on the x axis and percent change of weighted sentiment on the y axis\n",
    "    mergedData2.plot(x = 'Date', y = 'Pct Change of WS', ax = ax) \n",
    "\n",
    "    #adding the percent change of closing price to the graph\n",
    "    mergedData2.plot(x = 'Date', y = 'Pct Change of Closing Price', ax = ax, secondary_y = True) \n",
    "    plt.title('Percent Change of WS and Closing Price vs Time')\n",
    "\n",
    "    # adding a description to the graph\n",
    "    description = textwrap.wrap(\"This figure shows how the weighted daily sum of sentiment scores of comments mentioning Game Stop and Game Stop's stock price varies with time. This graph displays less of a clear relationship between the two variables, and suggests that the sentiment analysis package used may not be accurate at determining the true sentiment of comments regarding Game Stop.\", width=60)\n",
    "\n",
    "    plt.text(0, -340,'\\n'.join(description), fontsize=10, ha='left', va='bottom')\n",
    "\n",
    "\n",
    "    plt.savefig('time_series_plot2.jpeg',dpi=300, bbox_inches = \"tight\")"
   ]
  }
 ],
 "metadata": {
  "kernelspec": {
   "display_name": "Python 3.9.12 ('base')",
   "language": "python",
   "name": "python3"
  },
  "language_info": {
   "codemirror_mode": {
    "name": "ipython",
    "version": 3
   },
   "file_extension": ".py",
   "mimetype": "text/x-python",
   "name": "python",
   "nbconvert_exporter": "python",
   "pygments_lexer": "ipython3",
   "version": "3.9.12"
  },
  "orig_nbformat": 4,
  "vscode": {
   "interpreter": {
    "hash": "14b5f4a1e35b3543103fc71a08ac87c31dbc262e66f163b05b7ba3f77eb1e8a6"
   }
  }
 },
 "nbformat": 4,
 "nbformat_minor": 2
}
